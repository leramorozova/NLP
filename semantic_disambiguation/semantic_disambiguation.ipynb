{
 "cells": [
  {
   "cell_type": "markdown",
   "metadata": {},
   "source": [
    "Для слова `Острый` я выбрала значения 1 и 6 из [МАС](http://feb-web.ru/feb/mas/mas-abc/default.asp) и скачала из НКРЯ два датасета соответственно:\n",
    "\n",
    "1. Пища и напитки (семантические признаки)\n",
    "2. инструменты и оружие\n",
    "\n",
    "Обработаем датасеты."
   ]
  },
  {
   "cell_type": "code",
   "execution_count": 21,
   "metadata": {},
   "outputs": [],
   "source": [
    "import adagram\n",
    "from nltk.tokenize import RegexpTokenizer\n",
    "from nltk.corpus import stopwords\n",
    "from pymorphy2 import MorphAnalyzer\n",
    "from tqdm.notebook import tqdm\n",
    "import numpy as np\n",
    "from matplotlib import pyplot as plt\n",
    "%matplotlib inline\n",
    "\n",
    "\n",
    "morph = MorphAnalyzer()\n",
    "token = RegexpTokenizer('\\w+')\n",
    "stops = set(stopwords.words('russian'))"
   ]
  },
  {
   "cell_type": "code",
   "execution_count": 22,
   "metadata": {},
   "outputs": [
    {
     "name": "stderr",
     "output_type": "stream",
     "text": [
      "b'Skipping line 47: expected 19 fields, saw 28\\nSkipping line 216: expected 19 fields, saw 22\\nSkipping line 217: expected 19 fields, saw 27\\nSkipping line 262: expected 19 fields, saw 21\\nSkipping line 285: expected 19 fields, saw 22\\nSkipping line 317: expected 19 fields, saw 23\\nSkipping line 343: expected 19 fields, saw 27\\nSkipping line 399: expected 19 fields, saw 22\\nSkipping line 410: expected 19 fields, saw 25\\nSkipping line 425: expected 19 fields, saw 21\\nSkipping line 439: expected 19 fields, saw 21\\n'\n"
     ]
    }
   ],
   "source": [
    "import pandas as pd\n",
    "\n",
    "sharp_dataset = pd.read_csv(\"sharp.csv\", sep=\"\\t\", error_bad_lines=False)\n",
    "spicy_dataset = pd.read_csv(\"spicy.csv\", sep=\"\\t\", error_bad_lines=False)"
   ]
  },
  {
   "cell_type": "code",
   "execution_count": 23,
   "metadata": {},
   "outputs": [
    {
     "data": {
      "text/html": [
       "<div>\n",
       "<style scoped>\n",
       "    .dataframe tbody tr th:only-of-type {\n",
       "        vertical-align: middle;\n",
       "    }\n",
       "\n",
       "    .dataframe tbody tr th {\n",
       "        vertical-align: top;\n",
       "    }\n",
       "\n",
       "    .dataframe thead th {\n",
       "        text-align: right;\n",
       "    }\n",
       "</style>\n",
       "<table border=\"1\" class=\"dataframe\">\n",
       "  <thead>\n",
       "    <tr style=\"text-align: right;\">\n",
       "      <th></th>\n",
       "      <th>Reversed left context</th>\n",
       "      <th>Reversed center</th>\n",
       "      <th>Left context</th>\n",
       "      <th>Center</th>\n",
       "      <th>Punct</th>\n",
       "      <th>Right context</th>\n",
       "      <th>Title</th>\n",
       "      <th>Author</th>\n",
       "      <th>Birthday</th>\n",
       "      <th>Header</th>\n",
       "      <th>Created</th>\n",
       "      <th>Sphere</th>\n",
       "      <th>Type</th>\n",
       "      <th>Topic</th>\n",
       "      <th>Publication</th>\n",
       "      <th>Publ_year</th>\n",
       "      <th>Medium</th>\n",
       "      <th>Ambiguity</th>\n",
       "      <th>Full context</th>\n",
       "    </tr>\n",
       "  </thead>\n",
       "  <tbody>\n",
       "    <tr>\n",
       "      <th>0</th>\n",
       "      <td>етинкторп ,вотог ьсуг отч ,ясьтидебу</td>\n",
       "      <td>мыртсо</td>\n",
       "      <td>убедиться, что гусь готов, проткните</td>\n",
       "      <td>острым</td>\n",
       "      <td></td>\n",
       "      <td>ножом бедро.</td>\n",
       "      <td>Рецепты национальных кухонь: Скандинавская кух...</td>\n",
       "      <td>NaN</td>\n",
       "      <td>NaN</td>\n",
       "      <td>Рецепты национальных кухонь: Скандинавская кухня</td>\n",
       "      <td>2000-2005</td>\n",
       "      <td>бытовая, нехудожественная, производственно-тех...</td>\n",
       "      <td>рецепт</td>\n",
       "      <td>дом и домашнее хозяйство</td>\n",
       "      <td>NaN</td>\n",
       "      <td>NaN</td>\n",
       "      <td>электронный текст</td>\n",
       "      <td>омонимия снята</td>\n",
       "      <td>Для того, чтобы убедиться, что гусь готов, про...</td>\n",
       "    </tr>\n",
       "    <tr>\n",
       "      <th>1</th>\n",
       "      <td>йошьлоб и ― иворк в</td>\n",
       "      <td>йыртсо</td>\n",
       "      <td>в крови ― и большой</td>\n",
       "      <td>острый</td>\n",
       "      <td></td>\n",
       "      <td>нож.</td>\n",
       "      <td>Запись LiveJournal (2004)</td>\n",
       "      <td>NaN</td>\n",
       "      <td>NaN</td>\n",
       "      <td>Запись LiveJournal</td>\n",
       "      <td>2004</td>\n",
       "      <td>нехудожественная, электронная коммуникация</td>\n",
       "      <td>блог</td>\n",
       "      <td>частная жизнь</td>\n",
       "      <td>NaN</td>\n",
       "      <td>NaN</td>\n",
       "      <td>электронный текст</td>\n",
       "      <td>омонимия снята</td>\n",
       "      <td>В руках у безумца ― портфель, в котором лежат ...</td>\n",
       "    </tr>\n",
       "    <tr>\n",
       "      <th>2</th>\n",
       "      <td>тюазерорп и укйенил тюавыдалкирп метаЗ</td>\n",
       "      <td>мыртсо</td>\n",
       "      <td>Затем прикладывают линейку и прорезают</td>\n",
       "      <td>острым</td>\n",
       "      <td></td>\n",
       "      <td>ножом уложенные внахлест оба полотнища.</td>\n",
       "      <td>Елена Волкова. Тот самый линолеум // «Биржа пл...</td>\n",
       "      <td>Елена Волкова</td>\n",
       "      <td>NaN</td>\n",
       "      <td>Тот самый линолеум</td>\n",
       "      <td>2002</td>\n",
       "      <td>нехудожественная, публицистика</td>\n",
       "      <td>статья</td>\n",
       "      <td>дом и домашнее хозяйство</td>\n",
       "      <td>«Биржа плюс свой дом» (Н. Новгород)</td>\n",
       "      <td>2002.08.12</td>\n",
       "      <td>газета</td>\n",
       "      <td>омонимия снята</td>\n",
       "      <td>Затем прикладывают линейку и прорезают острым ...</td>\n",
       "    </tr>\n",
       "    <tr>\n",
       "      <th>3</th>\n",
       "      <td>хынназероп ,хывенчирок хитэ ан лавымердоп</td>\n",
       "      <td>имыртсо</td>\n",
       "      <td>подремывал на этих коричневых, порезанных</td>\n",
       "      <td>острыми</td>\n",
       "      <td></td>\n",
       "      <td>ножиками сиденьях, в головах тоже</td>\n",
       "      <td>Андрей Волос. Недвижимость (2000) // «Новый Ми...</td>\n",
       "      <td>Андрей Волос</td>\n",
       "      <td>1955</td>\n",
       "      <td>Недвижимость</td>\n",
       "      <td>2000</td>\n",
       "      <td>художественная</td>\n",
       "      <td>роман</td>\n",
       "      <td>_</td>\n",
       "      <td>«Новый Мир»</td>\n",
       "      <td>2001</td>\n",
       "      <td>журнал</td>\n",
       "      <td>омонимия снята</td>\n",
       "      <td>Электричка покачивалась, и, наверное, у всех, ...</td>\n",
       "    </tr>\n",
       "    <tr>\n",
       "      <th>4</th>\n",
       "      <td>ёе илырку ино адог авд</td>\n",
       "      <td>еыртсо</td>\n",
       "      <td>два года они укрыли её</td>\n",
       "      <td>острые</td>\n",
       "      <td></td>\n",
       "      <td>лопатки.</td>\n",
       "      <td>Людмила Улицкая. Казус Кукоцкого [Путешествие ...</td>\n",
       "      <td>Людмила Улицкая</td>\n",
       "      <td>1943</td>\n",
       "      <td>Казус Кукоцкого [Путешествие в седьмую сторону...</td>\n",
       "      <td>2000</td>\n",
       "      <td>художественная</td>\n",
       "      <td>роман</td>\n",
       "      <td>_</td>\n",
       "      <td>«Новый Мир»</td>\n",
       "      <td>2000</td>\n",
       "      <td>журнал</td>\n",
       "      <td>омонимия снята</td>\n",
       "      <td>Теперь Таня носила короткие чёрные платья и дл...</td>\n",
       "    </tr>\n",
       "  </tbody>\n",
       "</table>\n",
       "</div>"
      ],
      "text/plain": [
       "                        Reversed left context Reversed center  \\\n",
       "0        етинкторп ,вотог ьсуг отч ,ясьтидебу         мыртсо    \n",
       "1                         йошьлоб и ― иворк в         йыртсо    \n",
       "2      тюазерорп и укйенил тюавыдалкирп метаЗ         мыртсо    \n",
       "3   хынназероп ,хывенчирок хитэ ан лавымердоп        имыртсо    \n",
       "4                      ёе илырку ино адог авд         еыртсо    \n",
       "\n",
       "                                 Left context     Center Punct  \\\n",
       "0       убедиться, что гусь готов, проткните     острым          \n",
       "1                        в крови ― и большой     острый          \n",
       "2     Затем прикладывают линейку и прорезают     острым          \n",
       "3  подремывал на этих коричневых, порезанных    острыми          \n",
       "4                     два года они укрыли её     острые          \n",
       "\n",
       "                              Right context  \\\n",
       "0                              ножом бедро.   \n",
       "1                                      нож.   \n",
       "2   ножом уложенные внахлест оба полотнища.   \n",
       "3         ножиками сиденьях, в головах тоже   \n",
       "4                                  лопатки.   \n",
       "\n",
       "                                               Title           Author  \\\n",
       "0  Рецепты национальных кухонь: Скандинавская кух...              NaN   \n",
       "1                          Запись LiveJournal (2004)              NaN   \n",
       "2  Елена Волкова. Тот самый линолеум // «Биржа пл...    Елена Волкова   \n",
       "3  Андрей Волос. Недвижимость (2000) // «Новый Ми...     Андрей Волос   \n",
       "4  Людмила Улицкая. Казус Кукоцкого [Путешествие ...  Людмила Улицкая   \n",
       "\n",
       "  Birthday                                             Header    Created  \\\n",
       "0      NaN   Рецепты национальных кухонь: Скандинавская кухня  2000-2005   \n",
       "1      NaN                                 Запись LiveJournal       2004   \n",
       "2      NaN                                 Тот самый линолеум       2002   \n",
       "3     1955                                       Недвижимость       2000   \n",
       "4     1943  Казус Кукоцкого [Путешествие в седьмую сторону...       2000   \n",
       "\n",
       "                                              Sphere    Type  \\\n",
       "0  бытовая, нехудожественная, производственно-тех...  рецепт   \n",
       "1         нехудожественная, электронная коммуникация    блог   \n",
       "2                     нехудожественная, публицистика  статья   \n",
       "3                                     художественная   роман   \n",
       "4                                     художественная   роман   \n",
       "\n",
       "                      Topic                          Publication   Publ_year  \\\n",
       "0  дом и домашнее хозяйство                                  NaN         NaN   \n",
       "1             частная жизнь                                  NaN         NaN   \n",
       "2  дом и домашнее хозяйство  «Биржа плюс свой дом» (Н. Новгород)  2002.08.12   \n",
       "3                         _                          «Новый Мир»        2001   \n",
       "4                         _                          «Новый Мир»        2000   \n",
       "\n",
       "              Medium       Ambiguity  \\\n",
       "0  электронный текст  омонимия снята   \n",
       "1  электронный текст  омонимия снята   \n",
       "2             газета  омонимия снята   \n",
       "3             журнал  омонимия снята   \n",
       "4             журнал  омонимия снята   \n",
       "\n",
       "                                        Full context  \n",
       "0  Для того, чтобы убедиться, что гусь готов, про...  \n",
       "1  В руках у безумца ― портфель, в котором лежат ...  \n",
       "2  Затем прикладывают линейку и прорезают острым ...  \n",
       "3  Электричка покачивалась, и, наверное, у всех, ...  \n",
       "4  Теперь Таня носила короткие чёрные платья и дл...  "
      ]
     },
     "execution_count": 23,
     "metadata": {},
     "output_type": "execute_result"
    }
   ],
   "source": [
    "sharp_dataset.head(5)"
   ]
  },
  {
   "cell_type": "code",
   "execution_count": 61,
   "metadata": {},
   "outputs": [],
   "source": [
    "from pymystem3 import Mystem\n",
    "mystem = Mystem()\n",
    "\n",
    "class WSD:\n",
    "    def __init__(self, text, meaning):\n",
    "        self.text = text\n",
    "        self.word = \"острый\"\n",
    "        self.meaning = meaning\n",
    "        self.neighbours = None\n",
    "        self.disambiguated_meaning = None\n",
    "        \n",
    "    def __repr__(self):\n",
    "        return f\"WSD(text={self.text}, meaning={self.meaning})\"\n",
    "    \n",
    "    @staticmethod\n",
    "    def lemmatized_context(s):\n",
    "        return [w.lower() for w in mystem.lemmatize(\" \".join(token.tokenize(s)))]\n",
    "    \n",
    "    def disambiguate(self, model):\n",
    "        probs = model.disambiguate(self.word, self.lemmatized_context(self.text))\n",
    "        self.disambiguated_meaning = probs.argmax()\n",
    "        self.neighbours = model.sense_neighbors(self.word, np.argmax(probs))\n",
    "        return self"
   ]
  },
  {
   "cell_type": "markdown",
   "metadata": {},
   "source": [
    "В Адаграме значение \"острая пища\" имеет индекс 0, а \"острый нож\" - 3."
   ]
  },
  {
   "cell_type": "code",
   "execution_count": 62,
   "metadata": {},
   "outputs": [],
   "source": [
    "full_data = []\n",
    "\n",
    "for i in range(len(sharp_dataset['Center'])):\n",
    "    full_data.append(WSD(\" \".join([sharp_dataset[\"Left context\"][i].strip(), \n",
    "                     sharp_dataset[\"Center\"][i].strip(), \n",
    "                     sharp_dataset[\"Right context\"][i].strip()]),\n",
    "                     3))\n",
    "    \n",
    "for i in range(len(spicy_dataset['Center'])):\n",
    "    full_data.append(WSD(\" \".join([spicy_dataset[\"Left context\"][i].strip(), \n",
    "                     spicy_dataset[\"Center\"][i].strip(), \n",
    "                     spicy_dataset[\"Right context\"][i].strip()]),\n",
    "                     0))"
   ]
  },
  {
   "cell_type": "code",
   "execution_count": 63,
   "metadata": {},
   "outputs": [
    {
     "data": {
      "text/plain": [
       "610"
      ]
     },
     "execution_count": 63,
     "metadata": {},
     "output_type": "execute_result"
    }
   ],
   "source": [
    "len(full_data)"
   ]
  },
  {
   "cell_type": "code",
   "execution_count": 64,
   "metadata": {},
   "outputs": [
    {
     "name": "stdout",
     "output_type": "stream",
     "text": [
      "WSD(text=убедиться, что гусь готов, проткните острым ножом бедро., meaning=3)\n",
      "WSD(text=в крови ― и большой острый нож., meaning=3)\n",
      "WSD(text=Затем прикладывают линейку и прорезают острым ножом уложенные внахлест оба полотнища., meaning=3)\n",
      "WSD(text=подремывал на этих коричневых, порезанных острыми ножиками сиденьях, в головах тоже, meaning=3)\n",
      "WSD(text=два года они укрыли её острые лопатки., meaning=3)\n",
      "WSD(text=Высоченная, с острыми пиками поверху железная огорожа была, meaning=3)\n",
      "WSD(text=человека с безумными глазами и острым ножом в руках., meaning=3)\n",
      "WSD(text=как бы металлический браслет с острыми крючьями внутри., meaning=3)\n",
      "WSD(text=Далее: готовы ли клюквенный сок, острый нож, штопор для выковыривания глаз, шило, meaning=3)\n",
      "WSD(text=поздно), подвесил на крюк, достал острый нож, зажмурился и вонзил нож, meaning=3)\n"
     ]
    }
   ],
   "source": [
    "for i in range(10):\n",
    "    print(full_data[i])"
   ]
  },
  {
   "cell_type": "code",
   "execution_count": 8,
   "metadata": {},
   "outputs": [],
   "source": [
    "vm = adagram.VectorModel.load('all.a010.p10.d300.w5.m100.nonorm.slim.joblib')"
   ]
  },
  {
   "cell_type": "code",
   "execution_count": 65,
   "metadata": {},
   "outputs": [
    {
     "data": {
      "application/vnd.jupyter.widget-view+json": {
       "model_id": "4c3ab97a1ae444d49e00cbfa643660a6",
       "version_major": 2,
       "version_minor": 0
      },
      "text/plain": [
       "HBox(children=(FloatProgress(value=0.0, max=610.0), HTML(value='')))"
      ]
     },
     "metadata": {},
     "output_type": "display_data"
    },
    {
     "name": "stderr",
     "output_type": "stream",
     "text": [
      "/usr/local/lib/python3.6/dist-packages/adagram/model.py:171: RuntimeWarning: divide by zero encountered in log\n",
      "  z = np.log(z)\n",
      "/usr/local/lib/python3.6/dist-packages/adagram/model.py:124: RuntimeWarning: invalid value encountered in true_divide\n",
      "  sim_matrix = np.dot(self.In, s_v) / self.InNorms\n"
     ]
    },
    {
     "name": "stdout",
     "output_type": "stream",
     "text": [
      "\n",
      "Accuracy of Adagram: 0.7049180327868853\n"
     ]
    }
   ],
   "source": [
    "accuracy_heap = []\n",
    "\n",
    "for context in tqdm(full_data):\n",
    "    context.disambiguate(vm)\n",
    "    accuracy_heap.append(context.disambiguated_meaning == context.meaning)\n",
    "    \n",
    "print(\"Accuracy of Adagram:\", sum(accuracy_heap) / len(accuracy_heap))"
   ]
  },
  {
   "cell_type": "markdown",
   "metadata": {},
   "source": [
    "В принципе, вышло неплохо. Учитывая скидку на то, что тестовый корпус не на 100% чистый (иногда там есть левые контексты), даже совсем хорошо. Посмотрим, что будет со словарными значениями из MAC:"
   ]
  },
  {
   "cell_type": "code",
   "execution_count": 47,
   "metadata": {},
   "outputs": [
    {
     "name": "stdout",
     "output_type": "stream",
     "text": [
      "If guessed the proper meaning of 'spicy': True\n",
      "If guessed the proper meaning of 'sharp': True\n"
     ]
    }
   ],
   "source": [
    "spicy_wsd = WSD(\"С большим количеством соли, пряностей, специй (о пище). Острые блюда. Острый сыр. || Едкий, пряный (о приправах). Острый перец. Острая горчица.\", 0)\n",
    "sharp_wsd = WSD(\"Имеющий хорошо колющий конец или хорошо режущий край; противоп. тупой. Острая игла. Острая бритва. Острый нож. □ — Острые колючки рвали мою одежду. Лермонтов, Бэла. Они навязали их [крючки] на поводки из проволоки или струны, которых щуки не могли перекусить, несмотря на свои острые зубы. С. Аксаков, Детские годы Багрова-внука. Я растирал себе в кровь руки и колени о песок, об острые камни, о колючие сучки, но ничего не замечал. М. Пришвин, За волшебным колобком.\", 3)\n",
    "\n",
    "spicy_wsd.disambiguate(vm)\n",
    "print(\"If guessed the proper meaning of 'spicy':\", spicy_wsd.disambiguated_meaning == spicy_wsd.meaning)\n",
    "sharp_wsd.disambiguate(vm)\n",
    "print(\"If guessed the proper meaning of 'sharp':\", sharp_wsd.disambiguated_meaning == sharp_wsd.meaning)"
   ]
  },
  {
   "cell_type": "markdown",
   "metadata": {},
   "source": [
    "Даже если убрать из толкований примеры, все равно норм."
   ]
  },
  {
   "cell_type": "code",
   "execution_count": 48,
   "metadata": {},
   "outputs": [
    {
     "name": "stdout",
     "output_type": "stream",
     "text": [
      "If guessed the proper meaning of 'spicy': True\n",
      "If guessed the proper meaning of 'sharp': True\n"
     ]
    }
   ],
   "source": [
    "spicy_wsd_2 = WSD(\"С большим количеством соли, пряностей, специй (о пище)\", 0)\n",
    "sharp_wsd_2 = WSD(\"Имеющий хорошо колющий конец или хорошо режущий край; противоп. тупой.\", 3)\n",
    "\n",
    "spicy_wsd_2.disambiguate(vm)\n",
    "print(\"If guessed the proper meaning of 'spicy':\", spicy_wsd_2.disambiguated_meaning == spicy_wsd_2.meaning)\n",
    "sharp_wsd_2.disambiguate(vm)\n",
    "print(\"If guessed the proper meaning of 'sharp':\", sharp_wsd_2.disambiguated_meaning == sharp_wsd_2.meaning)"
   ]
  },
  {
   "cell_type": "markdown",
   "metadata": {},
   "source": [
    "Далее я хочу использовать информацию, полученную из sense_neighbours, чтобы соотнести толкования со значениями из адаграма. Я возьму список слов, гипонимов и гиперонимов для каждого синсета и буду искать пересечения с \"соседями\" из адаграма. Там, где пересечение будет наибольшим, там толкования + значения совпадают."
   ]
  },
  {
   "cell_type": "code",
   "execution_count": 92,
   "metadata": {},
   "outputs": [
    {
     "name": "stdout",
     "output_type": "stream",
     "text": [
      "--2019-12-07 22:30:36--  https://github.com/sjut/HSE-Compling/raw/master/seminars/data/relations_with_concepts.csv\n",
      "Распознаётся github.com (github.com)… 140.82.118.3\n",
      "Подключение к github.com (github.com)|140.82.118.3|:443... соединение установлено.\n",
      "HTTP-запрос отправлен. Ожидание ответа… 302 Found\n",
      "Адрес: https://raw.githubusercontent.com/sjut/HSE-Compling/master/seminars/data/relations_with_concepts.csv [переход]\n",
      "--2019-12-07 22:30:37--  https://raw.githubusercontent.com/sjut/HSE-Compling/master/seminars/data/relations_with_concepts.csv\n",
      "Распознаётся raw.githubusercontent.com (raw.githubusercontent.com)… 151.101.84.133\n",
      "Подключение к raw.githubusercontent.com (raw.githubusercontent.com)|151.101.84.133|:443... соединение установлено.\n",
      "HTTP-запрос отправлен. Ожидание ответа… 200 OK\n",
      "Длина: 10359319 (9,9M) [text/plain]\n",
      "Сохранение в: «relations_with_concepts.csv»\n",
      "\n",
      "relations_with_conc 100%[===================>]   9,88M  8,14MB/s    за 1,2s    \n",
      "\n",
      "2019-12-07 22:30:40 (8,14 MB/s) - «relations_with_concepts.csv» сохранён [10359319/10359319]\n",
      "\n"
     ]
    }
   ],
   "source": [
    "!wget https://github.com/sjut/HSE-Compling/raw/master/seminars/data/relations_with_concepts.csv"
   ]
  },
  {
   "cell_type": "code",
   "execution_count": 93,
   "metadata": {},
   "outputs": [],
   "source": [
    "import csv\n",
    "\n",
    "rels_list = []\n",
    "with open(\"relations_with_concepts.csv\", newline='', encoding='utf8') as rels:\n",
    "    reader = csv.DictReader(rels, delimiter=\"\\t\")\n",
    "    for row in reader:\n",
    "        rels_list.append(row)\n",
    "\n",
    "\n",
    "def get_supc2(concept_list, rels_list, has_up=True, depth=0, max_depth=-1):\n",
    "    \"\"\"\n",
    "    Get list of all hypernym chains of the query\n",
    "    - up a level\n",
    "    - add all 'выше' concepts to list\n",
    "    [[level_1, level_2.1, level_3.1], [level_1, level_2.2, level_3.2], etc...]\n",
    "\n",
    "    :param concept_list: search input\n",
    "    :param rels_list: imported set of relations\n",
    "    :param max_depth: maximum allowed number of hypernyms\n",
    "    :param has_up: (internal) bool(current top concept has a superconcept)\n",
    "    :param depth: (internal) current depth in the ontology\n",
    "    :return: list of superconcept for every meaning of query\n",
    "    \"\"\"\n",
    "    new_cl = concept_list[:]\n",
    "    if (not has_up) or depth >= max_depth > 0:\n",
    "        return new_cl\n",
    "    has_up = False\n",
    "    for chain in concept_list:\n",
    "        index = new_cl.index(chain)\n",
    "        word = chain[-1]\n",
    "        for row in rels_list:\n",
    "            new_chain = chain[:]\n",
    "            if row['from'].lower() == word.lower() and row['relation'] == 'ВЫШЕ':\n",
    "                new_chain.append(row['to'].lower())\n",
    "                new_cl.insert(index + 1, new_chain)\n",
    "                has_up = True\n",
    "        if has_up:\n",
    "            new_cl.remove(chain)\n",
    "    return get_supc2(new_cl, rels_list, has_up, depth+1, max_depth)\n",
    "\n",
    "\n",
    "def get_supc(concept_list, rels_list, has_up=True, depth=0, max_depth=-1):\n",
    "    \"\"\"\n",
    "    Find list of all hypernyms of query by level down\n",
    "    [[level_1], [level_2.1, level_2.2], [level_3.1, level_3.2, level_3.3], etc...]\n",
    "\n",
    "    :param concept_list: search input\n",
    "    :param rels_list: imported set of relations\n",
    "    :param max_depth: maximum allowed number of hyponyms\n",
    "    :param has_up: (internal) bool(current top concept has a subconcept)\n",
    "    :param depth: (internal) current depth in the ontology\n",
    "    :return: list of subconcepts for every meaning of query\n",
    "    \"\"\"\n",
    "    if (not has_up) or depth >= max_depth > 0:\n",
    "        return concept_list\n",
    "    has_up = False\n",
    "    new_list = []\n",
    "    for word in concept_list[-1]:\n",
    "        for row in rels_list:\n",
    "            if row['from'].lower() == word.lower() and row['relation'] == 'ВЫШЕ':\n",
    "                if all(row['to'].lower() not in hypo for hypo in concept_list):\n",
    "                    new_list.append(row['to'].lower())\n",
    "                    has_up = True\n",
    "    if has_up:\n",
    "        concept_list.append(new_list)\n",
    "    return get_supc(concept_list, rels_list, has_up, depth + 1, max_depth)\n",
    "\n",
    "\n",
    "def get_subc2(concept_list, rels_list, has_down=True, depth=0, max_depth=-1):\n",
    "    \"\"\"\n",
    "    Get list of all hyponym chains for word in query\n",
    "    - down a level\n",
    "    - add all 'ниже' concepts to list\n",
    "    [[level_1, level_2.1, level_3.1], [level_1, level_2.2, level_3.2], etc...]\n",
    "\n",
    "    :param concept_list: search input\n",
    "    :param rels_list: imported set of relations\n",
    "    :param max_depth: maximum allowed number of hyponyms\n",
    "    :param has_down: (internal) bool(current top concept has a subconcept)\n",
    "    :param depth: (internal) current depth in the ontology\n",
    "    :return: list of subconcepts for every meaning of query\n",
    "    \"\"\"\n",
    "    new_cl = concept_list[:]\n",
    "    if (not has_down) or depth >= max_depth > 0:\n",
    "        return new_cl\n",
    "    for chain in concept_list:\n",
    "        has_down = False\n",
    "        index = new_cl.index(chain)\n",
    "        word = chain[-1]\n",
    "        for row in rels_list:\n",
    "            new_chain = chain[:]\n",
    "            if row['from'].lower() == word.lower() and row['relation'] == 'НИЖЕ':\n",
    "                new_chain.append(row['to'].lower())\n",
    "                new_cl.insert(index + 1, new_chain)\n",
    "                has_down = True\n",
    "        if has_down:\n",
    "            new_cl.remove(chain)\n",
    "    return get_subc2(new_cl, rels_list, has_down, depth+1, max_depth)\n",
    "\n",
    "\n",
    "def get_subc(concept_list, rels_list, has_down=True, depth=0, max_depth=-1):\n",
    "    \"\"\"\n",
    "    Find list of all hyponyms of query by level down\n",
    "    [[level_1], [level_2.1, level_2.2], [level_3.1, level_3.2, level_3.3], etc...]\n",
    "\n",
    "    :param concept_list: search input\n",
    "    :param rels_list: imported set of relations\n",
    "    :param max_depth: maximum allowed number of hyponyms\n",
    "    :param has_down: (internal) bool(current top concept has a subconcept)\n",
    "    :param depth: (internal) current depth in the ontology\n",
    "    :return: list of subconcepts for every meaning of query\n",
    "    \"\"\"\n",
    "    if (not has_down) or depth >= max_depth > 0:\n",
    "        return concept_list\n",
    "    has_down = False\n",
    "    new_list = []\n",
    "    for word in concept_list[-1]:\n",
    "        for row in rels_list:\n",
    "            if row['from'].lower() == word.lower() and row['relation'] == 'НИЖЕ':\n",
    "                if all(row['to'].lower() not in hypo for hypo in concept_list):\n",
    "                    new_list.append(row['to'].lower())\n",
    "                    has_down = True\n",
    "    if has_down:\n",
    "        concept_list.append(new_list)\n",
    "    return get_subc(concept_list, rels_list, has_down, depth+1, max_depth)"
   ]
  },
  {
   "cell_type": "code",
   "execution_count": 94,
   "metadata": {},
   "outputs": [
    {
     "name": "stdout",
     "output_type": "stream",
     "text": [
      "[['острый']]\n",
      "[['острый']]\n",
      "[['острый']]\n",
      "[['острый']]\n"
     ]
    }
   ],
   "source": [
    "print(get_supc([[\"острый\"]], rels_list))\n",
    "\n",
    "print(get_supc2([[\"острый\"]], rels_list))\n",
    "\n",
    "print(get_subc([[\"острый\"]], rels_list))\n",
    "\n",
    "print(get_subc2([[\"острый\"]], rels_list))"
   ]
  },
  {
   "cell_type": "markdown",
   "metadata": {},
   "source": [
    "Тут чет ничего не нашлось."
   ]
  },
  {
   "cell_type": "code",
   "execution_count": 97,
   "metadata": {},
   "outputs": [],
   "source": [
    "from wiki_ru_wordnet import WikiWordnet\n",
    "\n",
    "ruwn = WikiWordnet()\n",
    "synsets = ruwn.get_synsets('острый')"
   ]
  },
  {
   "cell_type": "code",
   "execution_count": 98,
   "metadata": {},
   "outputs": [
    {
     "name": "stdout",
     "output_type": "stream",
     "text": [
      "острый острый~ru~острый~ru~<!-- 3 --> {{п.}} имеющий [[жгучий]] вкус, раздражающий слизистую оболочку рта {{пример|{{выдел|Острый}} перец.}}~48016~88302\n",
      "\n",
      "острый острый~ru~острый~ru~<!-- 8 --> [[критический]], [[катастрофичный]] {{пример|{{выдел|Острая}} нехватка средств при отсутствии доступных кредитов переросла в финансовый кризис.}}~15128~7782\n",
      "\n",
      "острый острый~ru~острый~ru~<!-- 1 --> способный легко [[резать]] или [[прокалывать]] {{пример|{{выдел|Острый}} нож.}} {{пример|{{выдел|Острая}} игла.|}}~1067~84838\n",
      "\n"
     ]
    }
   ],
   "source": [
    "for syn in synsets:\n",
    "    for w in syn.get_words():\n",
    "        print(w.lemma(), w.definition())\n",
    "        print()"
   ]
  },
  {
   "cell_type": "markdown",
   "metadata": {},
   "source": [
    "Нужные значения тут есть, это хорошо."
   ]
  },
  {
   "cell_type": "code",
   "execution_count": 105,
   "metadata": {},
   "outputs": [
    {
     "name": "stdout",
     "output_type": "stream",
     "text": [
      "set() set()\n",
      "\n",
      "set() set()\n",
      "\n",
      "set() set()\n",
      "\n"
     ]
    }
   ],
   "source": [
    "for syn in synsets:\n",
    "    print(ruwn.get_hyponyms(syn), ruwn.get_hypernyms(syn))\n",
    "    print()"
   ]
  },
  {
   "cell_type": "markdown",
   "metadata": {},
   "source": [
    "И тут ничего не нашлось. Не уверена, бывают ли "
   ]
  }
 ],
 "metadata": {
  "kernelspec": {
   "display_name": "Python 3",
   "language": "python",
   "name": "python3"
  },
  "language_info": {
   "codemirror_mode": {
    "name": "ipython",
    "version": 3
   },
   "file_extension": ".py",
   "mimetype": "text/x-python",
   "name": "python",
   "nbconvert_exporter": "python",
   "pygments_lexer": "ipython3",
   "version": "3.6.8"
  }
 },
 "nbformat": 4,
 "nbformat_minor": 2
}
